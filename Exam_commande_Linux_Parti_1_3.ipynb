{
  "nbformat": 4,
  "nbformat_minor": 0,
  "metadata": {
    "colab": {
      "provenance": [],
      "authorship_tag": "ABX9TyPMyhcmCRb/v4IAoIiH7Kld",
      "include_colab_link": true
    },
    "kernelspec": {
      "name": "python3",
      "display_name": "Python 3"
    },
    "language_info": {
      "name": "python"
    }
  },
  "cells": [
    {
      "cell_type": "markdown",
      "metadata": {
        "id": "view-in-github",
        "colab_type": "text"
      },
      "source": [
        "<a href=\"https://colab.research.google.com/github/3Lvis0/Linux-Commandes/blob/main/Exam_commande_Linux_Parti_1_3.ipynb\" target=\"_parent\"><img src=\"https://colab.research.google.com/assets/colab-badge.svg\" alt=\"Open In Colab\"/></a>"
      ]
    },
    {
      "cell_type": "markdown",
      "source": [
        "#Parti 1."
      ],
      "metadata": {
        "id": "sFcOlr7WBrmw"
      }
    },
    {
      "cell_type": "code",
      "execution_count": null,
      "metadata": {
        "id": "qZm3-7sMBISG"
      },
      "outputs": [],
      "source": [
        "su #Cette commande permet de passer en mode superutilisateur (root),\n",
        "#nécessaire pour effectuer les opérations suivantes."
      ]
    },
    {
      "cell_type": "code",
      "source": [
        "useradd -m jean\n",
        "useradd -m paul\n",
        "useradd -m marie\n",
        "useradd -m sophie\n",
        "#Ces commandes créent quatre nouveaux utilisateurs\n",
        "#(jean, paul, marie, sophie) avec leurs répertoires personnels (-m)."
      ],
      "metadata": {
        "id": "B2hJKJWPBzL8"
      },
      "execution_count": null,
      "outputs": []
    },
    {
      "cell_type": "code",
      "source": [
        "mkdir -p /home/shared_data/dossier1 #Crée un répertoire partagé \"shared_data\" avec un sous-dossier \"dossier1\".\n",
        "\n",
        "#Crée des fichiers vides dans le répertoire partagé.\n",
        "touch /home/shared_data/file1.txt\n",
        "touch /home/shared_data/file2.txt\n",
        "touch /home/shared_data/dossier1/script1.sh\n",
        "touch /home/shared_data/dossier1/script2.sh"
      ],
      "metadata": {
        "id": "avUK7fzaB19c"
      },
      "execution_count": null,
      "outputs": []
    },
    {
      "cell_type": "code",
      "source": [
        "chown jean:paul /home/shared_data/file1.txt #Change le propriétaire de file1.txt à jean et le groupe à paul.\n",
        "chmod 400 /home/shared_data/file1.txt #Donne des permissions de lecture seule au propriétaire de file1.txt.\n",
        "\n",
        "\n",
        "chown paul:jean /home/shared_data/file2.txt #Change le propriétaire de file2.txt à paul et le groupe à jean.\n",
        "chmod 600 /home/shared_data/file2.txt #Donne des permissions de lecture et écriture au propriétaire de file2.txt.\n",
        "\n",
        "chown -R marie:marie /home/shared_data/dossier1 # Change récursivement le propriétaire et le groupe de dossier1 à marie.\n",
        "chmod 777 /home/shared_data/dossier1 #Donne toutes les permissions à tous les utilisateurs sur dossier1.\n",
        "chmod 644 /home/shared_data/dossier1/script1.sh #Donne des permissions de lecture et écriture au propriétaire,\n",
        "#et lecture seule aux autres pour script1.sh.\n",
        "\n",
        "chmod 000 /home/shared_data/dossier1/script2.sh #Retire toutes les permissions sur script2.sh.\n",
        "\n",
        "chown -R sophie:jean /home/shared_data #Change récursivement le propriétaire de tout le répertoire\n",
        "#shared_data à sophie et le groupe à jean.\n",
        "chmod -R 444 /home/shared_data #Change récursivement les permissions de tout le répertoire\n",
        "#shared_data à lecture seule pour tous. (Aussi la source principale des problèmes à scénarios.)"
      ],
      "metadata": {
        "id": "whFfKbxcB35Z"
      },
      "execution_count": null,
      "outputs": []
    },
    {
      "cell_type": "markdown",
      "source": [
        "#Scénarios de Tests de Permission et Identification des Problèmes."
      ],
      "metadata": {
        "id": "6RitvaTHB8LQ"
      }
    },
    {
      "cell_type": "markdown",
      "source": [
        "1."
      ],
      "metadata": {
        "id": "wsRi6gsWEIjd"
      }
    },
    {
      "cell_type": "code",
      "source": [
        "#La commande su jean -c 'cat /home/shared_data/file1.txt' ne fonctionne pas en raison des permissions\n",
        "#et des propriétaires définis dans les lignes de code précédentes.\n",
        "\n",
        "chown jean:paul /home/shared_data/file1.txt #Cette ligne définit Jean comme propriétaire du fichier, ce qui est correct.\n",
        "chmod 400 /home/shared_data/file1.txt #Cette commande définit les permissions du fichier à 400 est donc :\n",
        "#lecture 4 pour le propriètaire\n",
        "#Aucun droit (0) pour le groupe\n",
        "#Aucun droit (0) pour les autres\n",
        "\n",
        "chown -R sophie:jean /home/shared_data\n",
        "chmod -R 444 /home/shared_data\n",
        "#Ces lignes changent récursivement le propriétaire du répertoire /home/shared_data à Sophie et le groupe à Jean,\n",
        "#puis définissent les permissions à 444 pour tous les fichiers et dossiers, y compris le répertoire lui-même.\n",
        "#En conclusion Le problème principal est que les permissions 444 sur le répertoire /home/shared_data ne permettent\n",
        "#pas l'exécution (x) du répertoire. Sans la permission d'exécution sur un répertoire, un utilisateur ne peut pas y accéder\n",
        "#ou lister son contenu, même s'il a les permissions de lecture sur les fichiers à l'intérieur.\n",
        "#Donc jean à bien la permission de lire le fichier 'file1.txt'. Seulement il n'a pas la permission d'exécution (x) sur le répertoire.\n",
        "#pour resoudre le problème il suffit simplement d'ajouter la permission d'exécuter sur le repertoire avec cette commande.\n",
        "\n",
        "chmod 555 /home/shared_data\n",
        "#Après cette modification, la commande su jean -c 'cat /home/shared_data/file1.txt' fonctionne correctement.\n"
      ],
      "metadata": {
        "id": "3ZyBBQ33B6l4"
      },
      "execution_count": null,
      "outputs": []
    },
    {
      "cell_type": "markdown",
      "source": [
        "2."
      ],
      "metadata": {
        "id": "pv7AvI7aEL3N"
      }
    },
    {
      "cell_type": "code",
      "source": [
        "#Pour résoudre ce problème et permettre à Paul d'écrire dans le fichier, vous devez restaurer les permissions d'écriture pour le propriétaire du fichier.\n",
        "\n",
        "chown paul:jean /home/shared_data/file2.txt #Cette commande donne la propriété du fichier à Paul, ce qui est correct.\n",
        "\n",
        "chmod 600 /home/shared_data/file2.txt#Cette commande donne à Paul les droits de lecture et d'écriture, ce qui est également correct.\n",
        "\n",
        "\n",
        "chmod 644 /home/shared_data/file2.txt #Cette commande donne les droits de lecture et d'écriture au propriétaire (Paul) et les droits de lecture aux autres.\n",
        "chmod +x /home/shared_data #Cela permet à Paul d'accéder au répertoire contenant le fichier.\n",
        "#Après avoir appliqué ces modifications, Paul devrait être capable d'écrire dans le fichier.\n",
        "#En résumé, le problème était causé par le changement global et récursif des permissions qui\n",
        "#a écrasé les permissions spécifiques du fichier. La solution consiste à restaurer les permissions\n",
        "#appropriées pour le fichier tout en s'assurant que les permissions du répertoire parent permettent l'accès."
      ],
      "metadata": {
        "id": "9ORDr3yDEOjZ"
      },
      "execution_count": null,
      "outputs": []
    },
    {
      "cell_type": "markdown",
      "source": [
        "3."
      ],
      "metadata": {
        "id": "UKP2lW-UGDpZ"
      }
    },
    {
      "cell_type": "code",
      "source": [
        "#La commande su marie -c 'bash /home/shared_data/dossier1/script1.sh'\n",
        "#ne fonctionnera pas correctement en raison des permissions configurées.\n",
        "\n",
        "chown -R marie:marie /home/shared_data/dossier1#Cette commande donne la propriété du dossier et de son contenu à Marie, ce qui est correct.\n",
        "\n",
        "chmod 777 /home/shared_data/dossier1\n",
        "chmod 644 /home/shared_data/dossier1/script1.sh #Ces commandes donnent des permissions correctes pour l'exécution du script.\n",
        "\n",
        "\n",
        "#Pour permettre à Marie d'exécuter le script, vous devez restaurer les\n",
        "#permissions d'exécution pour le script et les permissions d'accès pour les dossiers parents.\n",
        "\n",
        "chmod 755 /home/shared_data/dossier1/script1.sh #Cette commande donne les droits de lecture,\n",
        "#écriture et exécution au propriétaire, et les droits de lecture et exécution aux autres.\n",
        "\n",
        "chmod 755 /home/shared_data\n",
        "chmod 755 /home/shared_data/dossier1 #Cela permet à Marie d'accéder aux dossiers contenant le script.\n",
        "#Après avoir appliqué ces modifications, Marie devrait être capable d'exécuter le script."
      ],
      "metadata": {
        "id": "E_B0ceHpGFQx"
      },
      "execution_count": null,
      "outputs": []
    },
    {
      "cell_type": "markdown",
      "source": [
        "4."
      ],
      "metadata": {
        "id": "_gY8g-0MONrX"
      }
    },
    {
      "cell_type": "code",
      "source": [
        "#La commande su sophie -c 'touch /home/shared_data/newfile.txt' ne fonctionnera pas correctement\n",
        "#en raison des permissions configurées.\n",
        "\n",
        "chown -R sophie:jean /home/shared_data#Cette commande donne la propriété du répertoire /home/shared_data\n",
        "#et de son contenu à Sophie (propriétaire) et au groupe jean, ce qui est correct.\n",
        "\n",
        "#Le problème principal est que les permissions 444 ne permettent à personne d'écrire dans le répertoire ou\n",
        "#de créer de nouveaux fichiers, même pour le propriétaire (Sophie dans ce cas).\n",
        "\n",
        "chmod u+wx /home/shared_data #Cette commande ajoute les permissions d'écriture (w) et d'exécution (x) pour\n",
        "#le propriétaire (u) du répertoire. La permission d'exécution est nécessaire pour accéder au contenu du répertoire.\n",
        "\n",
        "chmod 755 /home/shared_data #Cela donne les droits de lecture, écriture et exécution au propriétaire, et les droits\n",
        "#de lecture et exécution aux autres.\n",
        "\n"
      ],
      "metadata": {
        "id": "e-kPufANOL_v"
      },
      "execution_count": null,
      "outputs": []
    },
    {
      "cell_type": "markdown",
      "source": [
        "5."
      ],
      "metadata": {
        "id": "RoO7WXDLP20Z"
      }
    },
    {
      "cell_type": "code",
      "source": [
        "chown -R sophie:jean /home/shared_data #Cette commande change récursivement le propriétaire\n",
        "#de tous les fichiers et dossiers dans /home/shared_data à Sophie, et le groupe à jean.\n",
        "\n",
        "chmod -R 444 /home/shared_data #Cette commande change récursivement les permissions de tous\n",
        "#les fichiers et dossiers dans /home/shared_data à lecture seule (444) pour tous les utilisateurs.\n",
        "\n",
        "chmod 000 /home/shared_data/dossier1/script2.sh #Cette commande avait précédemment retiré toutes\n",
        "#les permissions sur script2.sh, mais elle a été écrasée par la commande chmod récursive suivante.\n",
        "\n",
        "#Le problème principal est que :\n",
        "#Paul n'est plus le propriétaire du fichier.\n",
        "#Les permissions sont en lecture seule pour tous les utilisateurs (444).\n",
        "#Paul n'a pas les permissions d'exécution sur les répertoires parents pour accéder au fichier.\n",
        "#Pour permettre à Paul d'éditer le fichier avec nano, plusieurs modifications sont nécessaires dont\n",
        "# - Restaurer la propriété du fichier à Paul.\n",
        "chown paul:jean /home/shared_data/dossier1/script2.sh\n",
        "\n",
        "\n",
        "# - Donner les permissions de lecture et d'écriture à Paul sur le fichier.\n",
        "chmod 600 /home/shared_data/dossier1/script2.sh#Les permissions 600 signifient que seul le propriétaire\n",
        "#(Paul) a les droits de lecture et d'écriture sur le fichier.\n",
        "\n",
        "# - Donner les permissions d'exécution sur les répertoires parents.\n",
        "chmod +x /home/shared_data\n",
        "chmod +x /home/shared_data/dossier1#Les permissions d'exécution (+x) sur les répertoires parents sont\n",
        "#nécessaires pour que Paul puisse accéder au fichier.\n",
        "#Et donc Changer le propriétaire du fichier à Paul lui\n",
        "#donne le contrôle total sur le fichier (en fonction des permissions).\n",
        "\n"
      ],
      "metadata": {
        "id": "NduM89CXP3m6"
      },
      "execution_count": null,
      "outputs": []
    },
    {
      "cell_type": "markdown",
      "source": [
        "#Questions de Réflexion."
      ],
      "metadata": {
        "id": "kUWkdD0DQ0Tz"
      }
    },
    {
      "cell_type": "markdown",
      "source": [
        "1."
      ],
      "metadata": {
        "id": "9aauZQfiVh0c"
      }
    },
    {
      "cell_type": "code",
      "source": [
        "#Tester les permissions après leur configuration est crucial pour garantir la sécurité\n",
        "#et l'efficacité du système. Par exemple, vérifier qu'un utilisateur peut accéder à un\n",
        "#fichier spécifique (cat /chemin/vers/fichier.txt) ou qu'il ne peut pas modifier un répertoire\n",
        "#restreint (touch /répertoire/restreint/nouveau_fichier.txt) permet de s'assurer que les droits\n",
        "#sont correctement attribués. Ces tests aident à détecter les erreurs de configuration et à prévenir\n",
        "#les failles de sécurité potentielles."
      ],
      "metadata": {
        "id": "C74NUG8HSAum"
      },
      "execution_count": null,
      "outputs": []
    },
    {
      "cell_type": "markdown",
      "source": [
        "2."
      ],
      "metadata": {
        "id": "rerdKcIUVi6o"
      }
    },
    {
      "cell_type": "code",
      "source": [
        "#Une mauvaise configuration des permissions sur un serveur Linux peut entraîner des risques graves\n",
        "#pour la sécurité et le fonctionnement du système. Par exemple, des permissions trop permissives sur\n",
        "#le fichier /etc/shadow pourraient permettre à un attaquant de lire les hachages de mots de passe,\n",
        "#compromettant ainsi tous les comptes utilisateurs. De même, l'exécution d'un service web avec des\n",
        "#privilèges root pourrait être exploitée pour prendre le contrôle complet du serveur en cas de\n",
        "#vulnérabilité dans l'application web."
      ],
      "metadata": {
        "id": "5r_fhU3PVj7_"
      },
      "execution_count": null,
      "outputs": []
    },
    {
      "cell_type": "markdown",
      "source": [
        "3."
      ],
      "metadata": {
        "id": "wMMhPvBNV_32"
      }
    },
    {
      "cell_type": "code",
      "source": [
        "#Appliquer le principe du moindre privilège, en n'accordant que les permissions minimales nécessaires\n",
        "#pour chaque utilisateur ou processus."
      ],
      "metadata": {
        "id": "0QbYZypaW1UB"
      },
      "execution_count": null,
      "outputs": []
    },
    {
      "cell_type": "markdown",
      "source": [
        "Partie 3."
      ],
      "metadata": {
        "id": "kGcJ9vaFaO22"
      }
    },
    {
      "cell_type": "code",
      "source": [
        "#b) pwd\n",
        "#b) ls\n",
        "#c) cd\n",
        "#b) mkdir\n",
        "#b) cp\n",
        "#a) cat\n",
        "#a) Elle modifie les permissions des fichiers ou des répertoires.\n",
        "#b) chown\n",
        "#c) chgrp\n",
        "#a) ls -l\n",
        "#a) ln\n",
        "#a) top et b) ps\n",
        "#a) kill\n",
        "#c) fg\n",
        "#a) bg\n",
        "#a) free et d) top\n",
        "#b) mv\n",
        "#a) rm\n",
        "#a) zip et b) gzip\n",
        "#a) ls -r\n",
        "#a) diff\n",
        "#a) ifconfig\n",
        "#a) ping\n",
        "#a) ip addr et b) ifconfig\n",
        "#a) df\n",
        "#a) which\n",
        "#a) tail\n",
        "#b) crontab\n",
        "#a) at\n",
        "#b) shutdown -r now et c) reboot"
      ],
      "metadata": {
        "id": "RuDZ_ZjYo4WP"
      },
      "execution_count": null,
      "outputs": []
    }
  ]
}